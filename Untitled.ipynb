{
 "cells": [
  {
   "cell_type": "markdown",
   "metadata": {},
   "source": [
    "Brody Westberg - May 2019\n",
    "\n",
    "Investing in an stochastically optimal way.\n",
    "\n",
    "Problem Statement: \n",
    "\"You are part of an executive team who wants to deploy capital in the most efficient manner possible. \n",
    "The industry in which you work is very capital intensive. Junior operations often have little to no returns on thier money \n",
    "while larger players can earn attractive returns. Each operation, however, has diminishing returns on addiitional capital past a certain size.\n",
    "Production increases with investment but so does the cost of manufactoring in different ways.\n",
    "\n",
    "In addition to this, your business is subject to substantial country/governmental risk where as political instability could upset or halt an operation.\n",
    "With only limited investment opportunities within each country, with each investment having an individual optimal investment point,\n",
    "what is the systems optimal investment points to maximise risk adjusted returns?\""
   ]
  },
  {
   "cell_type": "markdown",
   "metadata": {},
   "source": [
    "My approach to this problem is to solve this stochastically assuming some random normal variation on the selling price, production rates, and cost to manufactor."
   ]
  },
  {
   "cell_type": "code",
   "execution_count": 7,
   "metadata": {},
   "outputs": [],
   "source": [
    "#Imports\n",
    "import numpy as np\n",
    "import pandas as pd\n",
    "import scipy as sp\n",
    "import seaborn as sb"
   ]
  },
  {
   "cell_type": "code",
   "execution_count": 5,
   "metadata": {},
   "outputs": [],
   "source": [
    "#Define total starting capital of the ExCo.\n",
    "StartingCapital = 4900#$MM\n",
    "Confidence_Interval = 0.95# and our tolerance"
   ]
  },
  {
   "cell_type": "code",
   "execution_count": 13,
   "metadata": {},
   "outputs": [],
   "source": [
    "#Now lets define the product groups that we are working with\n",
    "Countries = np.array(['A','B','C','D','E'])\n",
    "CountryRiskPremium = np.array([25.0, 18.0, 11.5, 6.5, 0.0])/100 #(CRP) in percentage, represents the expected additional return for that country with its risks\n",
    "\n",
    "df = pd.DataFrame(columns = ['Country','CRP'])\n",
    "df['Country'] = Countries\n",
    "df['CRP'] = CountryRiskPremium"
   ]
  },
  {
   "cell_type": "code",
   "execution_count": 14,
   "metadata": {},
   "outputs": [
    {
     "name": "stdout",
     "output_type": "stream",
     "text": [
      "  Country    CRP\n",
      "0       A  0.250\n",
      "1       B  0.180\n",
      "2       C  0.115\n",
      "3       D  0.065\n",
      "4       E  0.000\n"
     ]
    }
   ],
   "source": [
    "print(df)"
   ]
  },
  {
   "cell_type": "code",
   "execution_count": 19,
   "metadata": {},
   "outputs": [],
   "source": [
    "def Return(Investment):\n",
    "    #This is a simple proof of concept. Rather than model very complex shapes for each countries optimal investment\n",
    "    #a negative quadratic centered around some X many $MM invested and Y percent return\n",
    "    Quad_Coeffs = np.linspace(1E-3, 1E-4, num = 5)\n",
    "    Apex_Coeffs = np.linspace(200, 2000, num = 5)\n",
    "    Const_Coeffs = np.linspace(1.30, 1.1, num = 5)\n",
    "    \n",
    "    return -Quad_Coeffs*((Investment-Apex_Coeffs)/Apex_Coeffs)**2+Const_Coeffs"
   ]
  },
  {
   "cell_type": "code",
   "execution_count": 26,
   "metadata": {},
   "outputs": [
    {
     "ename": "SyntaxError",
     "evalue": "unmatched ')' (<ipython-input-26-2166130dc347>, line 3)",
     "output_type": "error",
     "traceback": [
      "\u001b[1;36m  File \u001b[1;32m\"<ipython-input-26-2166130dc347>\"\u001b[1;36m, line \u001b[1;32m3\u001b[0m\n\u001b[1;33m    for index, row in tmp.iterrow()):\u001b[0m\n\u001b[1;37m                                   ^\u001b[0m\n\u001b[1;31mSyntaxError\u001b[0m\u001b[1;31m:\u001b[0m unmatched ')'\n"
     ]
    }
   ],
   "source": [
    "tmp = pd.DataFrame(columns = ['A','B','C','D','E'])\n",
    "tmp['A']=tmp['B']=tmp['C']=tmp['D']=tmp['E']= np.linspace(0,3000,num = 1000)\n",
    "for index, row in tmp.iterrow()):\n",
    "    print(row)"
   ]
  },
  {
   "cell_type": "code",
   "execution_count": 18,
   "metadata": {},
   "outputs": [
    {
     "name": "stdout",
     "output_type": "stream",
     "text": [
      "               A            B            C            D            E\n",
      "0       0.000000     0.000000     0.000000     0.000000     0.000000\n",
      "1       3.003003     3.003003     3.003003     3.003003     3.003003\n",
      "2       6.006006     6.006006     6.006006     6.006006     6.006006\n",
      "3       9.009009     9.009009     9.009009     9.009009     9.009009\n",
      "4      12.012012    12.012012    12.012012    12.012012    12.012012\n",
      "..           ...          ...          ...          ...          ...\n",
      "995  2987.987988  2987.987988  2987.987988  2987.987988  2987.987988\n",
      "996  2990.990991  2990.990991  2990.990991  2990.990991  2990.990991\n",
      "997  2993.993994  2993.993994  2993.993994  2993.993994  2993.993994\n",
      "998  2996.996997  2996.996997  2996.996997  2996.996997  2996.996997\n",
      "999  3000.000000  3000.000000  3000.000000  3000.000000  3000.000000\n",
      "\n",
      "[1000 rows x 5 columns]\n"
     ]
    }
   ],
   "source": [
    "print(tmp)"
   ]
  },
  {
   "cell_type": "code",
   "execution_count": null,
   "metadata": {},
   "outputs": [],
   "source": []
  }
 ],
 "metadata": {
  "kernelspec": {
   "display_name": "Python 3",
   "language": "python",
   "name": "python3"
  },
  "language_info": {
   "codemirror_mode": {
    "name": "ipython",
    "version": 3
   },
   "file_extension": ".py",
   "mimetype": "text/x-python",
   "name": "python",
   "nbconvert_exporter": "python",
   "pygments_lexer": "ipython3",
   "version": "3.8.5"
  }
 },
 "nbformat": 4,
 "nbformat_minor": 4
}
